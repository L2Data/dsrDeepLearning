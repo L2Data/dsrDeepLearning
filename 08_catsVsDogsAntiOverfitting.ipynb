{
 "cells": [
  {
   "cell_type": "code",
   "execution_count": 1,
   "metadata": {},
   "outputs": [
    {
     "name": "stdout",
     "output_type": "stream",
     "text": [
      "data/catsVsDogs_small : 3\n",
      "data/catsVsDogs_small/train : 2\n",
      "data/catsVsDogs_small/validation : 2\n",
      "data/catsVsDogs_small/test : 2\n",
      "data/catsVsDogs_small/train/cats : 1000\n",
      "data/catsVsDogs_small/train/dogs : 1000\n",
      "data/catsVsDogs_small/validation/cats : 500\n",
      "data/catsVsDogs_small/validation/dogs : 500\n",
      "data/catsVsDogs_small/test/cats : 500\n",
      "data/catsVsDogs_small/test/dogs : 500\n",
      "Done.\n"
     ]
    }
   ],
   "source": [
    "import os, shutil\n",
    "\n",
    "original_dataset_dir = \"data/catsVsDogs/train\"\n",
    "\n",
    "dirs = []\n",
    "\n",
    "base_dir = \"data/catsVsDogs_small\"\n",
    "dirs.append(base_dir)\n",
    "\n",
    "train_dir = os.path.join(base_dir, \"train\")\n",
    "dirs.append(train_dir)\n",
    "validation_dir = os.path.join(base_dir, \"validation\")\n",
    "dirs.append(validation_dir)\n",
    "test_dir = os.path.join(base_dir, \"test\")\n",
    "dirs.append(test_dir)\n",
    "\n",
    "train_cats_dir = os.path.join(train_dir, \"cats\")\n",
    "dirs.append(train_cats_dir)\n",
    "train_dogs_dir = os.path.join(train_dir, \"dogs\")\n",
    "dirs.append(train_dogs_dir)\n",
    "\n",
    "validation_cats_dir = os.path.join(validation_dir, \"cats\")\n",
    "dirs.append(validation_cats_dir)\n",
    "validation_dogs_dir = os.path.join(validation_dir, \"dogs\")\n",
    "dirs.append(validation_dogs_dir)\n",
    "\n",
    "test_cats_dir = os.path.join(test_dir, \"cats\")\n",
    "dirs.append(test_cats_dir)\n",
    "test_dogs_dir = os.path.join(test_dir, \"dogs\")\n",
    "dirs.append(test_dogs_dir)\n",
    "\n",
    "for directory in dirs:\n",
    "    if not os.path.exists(directory):\n",
    "       os.mkdir(directory)\n",
    "    \n",
    "fnames = [\"cat.{}.jpg\".format(i) for i in range(1000)]\n",
    "for fname in fnames:\n",
    "    src = os.path.join(original_dataset_dir, fname)\n",
    "    dest = os.path.join(train_cats_dir, fname)\n",
    "    shutil.copy(src, dest)\n",
    "\n",
    "fnames = [\"cat.{}.jpg\".format(i) for i in range(1000, 1500)]\n",
    "for fname in fnames:\n",
    "    src = os.path.join(original_dataset_dir, fname)\n",
    "    dest = os.path.join(validation_cats_dir, fname)\n",
    "    shutil.copy(src, dest)\n",
    "\n",
    "fnames = [\"cat.{}.jpg\".format(i) for i in range(1500, 2000)]\n",
    "for fname in fnames:\n",
    "    src = os.path.join(original_dataset_dir, fname)\n",
    "    dest = os.path.join(test_cats_dir, fname)\n",
    "    shutil.copy(src, dest)\n",
    "   \n",
    "fnames = [\"dog.{}.jpg\".format(i) for i in range(1000)]\n",
    "for fname in fnames:\n",
    "    src = os.path.join(original_dataset_dir, fname)\n",
    "    dest = os.path.join(train_dogs_dir, fname)\n",
    "    shutil.copy(src, dest)\n",
    "\n",
    "fnames = [\"dog.{}.jpg\".format(i) for i in range(1000, 1500)]\n",
    "for fname in fnames:\n",
    "    src = os.path.join(original_dataset_dir, fname)\n",
    "    dest = os.path.join(validation_dogs_dir, fname)\n",
    "    shutil.copy(src, dest)\n",
    "\n",
    "fnames = [\"dog.{}.jpg\".format(i) for i in range(1500, 2000)]\n",
    "for fname in fnames:\n",
    "    src = os.path.join(original_dataset_dir, fname)\n",
    "    dest = os.path.join(test_dogs_dir, fname)\n",
    "    shutil.copy(src, dest)\n",
    "\n",
    "for directory in dirs:\n",
    "    print(directory, \":\", len(os.listdir(directory)))\n",
    "    \n",
    "print(\"Done.\")\n",
    "\n"
   ]
  },
  {
   "cell_type": "code",
   "execution_count": 2,
   "metadata": {},
   "outputs": [
    {
     "name": "stderr",
     "output_type": "stream",
     "text": [
      "Using TensorFlow backend.\n"
     ]
    }
   ],
   "source": [
    "%matplotlib inline\n",
    "import matplotlib.pyplot as plt\n",
    "from keras import models, layers, optimizers\n",
    "from keras.preprocessing.image import ImageDataGenerator\n",
    "import numpy as np"
   ]
  },
  {
   "cell_type": "code",
   "execution_count": 3,
   "metadata": {},
   "outputs": [
    {
     "name": "stdout",
     "output_type": "stream",
     "text": [
      "_________________________________________________________________\n",
      "Layer (type)                 Output Shape              Param #   \n",
      "=================================================================\n",
      "conv2d_1 (Conv2D)            (None, 148, 148, 32)      896       \n",
      "_________________________________________________________________\n",
      "max_pooling2d_1 (MaxPooling2 (None, 74, 74, 32)        0         \n",
      "_________________________________________________________________\n",
      "conv2d_2 (Conv2D)            (None, 72, 72, 64)        18496     \n",
      "_________________________________________________________________\n",
      "max_pooling2d_2 (MaxPooling2 (None, 36, 36, 64)        0         \n",
      "_________________________________________________________________\n",
      "conv2d_3 (Conv2D)            (None, 34, 34, 128)       73856     \n",
      "_________________________________________________________________\n",
      "max_pooling2d_3 (MaxPooling2 (None, 17, 17, 128)       0         \n",
      "_________________________________________________________________\n",
      "conv2d_4 (Conv2D)            (None, 15, 15, 128)       147584    \n",
      "_________________________________________________________________\n",
      "max_pooling2d_4 (MaxPooling2 (None, 7, 7, 128)         0         \n",
      "_________________________________________________________________\n",
      "flatten_1 (Flatten)          (None, 6272)              0         \n",
      "_________________________________________________________________\n",
      "dropout_1 (Dropout)          (None, 6272)              0         \n",
      "_________________________________________________________________\n",
      "dense_1 (Dense)              (None, 512)               3211776   \n",
      "_________________________________________________________________\n",
      "dense_2 (Dense)              (None, 1)                 513       \n",
      "=================================================================\n",
      "Total params: 3,453,121\n",
      "Trainable params: 3,453,121\n",
      "Non-trainable params: 0\n",
      "_________________________________________________________________\n"
     ]
    }
   ],
   "source": [
    "model = models.Sequential()\n",
    "model.add(layers.Conv2D(\n",
    "    32, (3, 3), \n",
    "    activation=\"relu\", \n",
    "    input_shape=(150, 150, 3)))\n",
    "model.add(layers.MaxPooling2D((2, 2)))\n",
    "model.add(layers.Conv2D(64, (3, 3), activation=\"relu\"))\n",
    "model.add(layers.MaxPooling2D((2, 2)))\n",
    "model.add(layers.Conv2D(128, (3, 3), activation=\"relu\"))\n",
    "model.add(layers.MaxPooling2D((2, 2)))\n",
    "model.add(layers.Conv2D(128, (3, 3), activation=\"relu\"))\n",
    "model.add(layers.MaxPooling2D((2, 2)))\n",
    "model.add(layers.Flatten())\n",
    "model.add(layers.Dropout(0.5))\n",
    "model.add(layers.Dense(512, activation=\"relu\"))\n",
    "model.add(layers.Dense(1, activation=\"sigmoid\"))\n",
    "\n",
    "model.summary()\n",
    "\n",
    "model.compile(\n",
    "    optimizer=optimizers.RMSprop(lr=1e-4),\n",
    "    loss=\"binary_crossentropy\",\n",
    "    metrics=[\"accuracy\"]\n",
    ")"
   ]
  },
  {
   "cell_type": "markdown",
   "metadata": {},
   "source": [
    "# Data augmentation\n",
    "\n",
    "Rescale, rotate, flip, shear, ... your data to increase the size of your training set"
   ]
  },
  {
   "cell_type": "code",
   "execution_count": 4,
   "metadata": {},
   "outputs": [],
   "source": [
    "# Image generator:  all it does at the moment is resaling the entries to [0,1]\n",
    "\n",
    "train_datagen = ImageDataGenerator(\n",
    "    rescale=1./255, \n",
    "    rotation_range=40, \n",
    "    width_shift_range=0.2, \n",
    "    height_shift_range=0.2,\n",
    "    shear_range=0.2,\n",
    "    zoom_range=0.2,\n",
    "    horizontal_flip=True\n",
    ")\n",
    "val_datagen   = ImageDataGenerator(rescale=1./255)\n",
    "test_datagen   = ImageDataGenerator(rescale=1./255)"
   ]
  },
  {
   "cell_type": "code",
   "execution_count": 5,
   "metadata": {},
   "outputs": [
    {
     "name": "stdout",
     "output_type": "stream",
     "text": [
      "Found 2000 images belonging to 2 classes.\n",
      "Found 1000 images belonging to 2 classes.\n",
      "Found 1000 images belonging to 2 classes.\n"
     ]
    }
   ],
   "source": [
    "train_generator = train_datagen.flow_from_directory(\n",
    "    train_dir,\n",
    "    target_size = (150, 150), \n",
    "    batch_size = 20,\n",
    "    class_mode=\"binary\"\n",
    ")\n",
    "\n",
    "val_generator = val_datagen.flow_from_directory(\n",
    "    validation_dir,\n",
    "    target_size = (150, 150), \n",
    "    batch_size = 20,\n",
    "    class_mode=\"binary\"\n",
    ")\n",
    "\n",
    "test_generator = test_datagen.flow_from_directory(\n",
    "    test_dir,\n",
    "    target_size = (150, 150), \n",
    "    batch_size = 20,\n",
    "    class_mode=\"binary\"\n",
    ")"
   ]
  },
  {
   "cell_type": "code",
   "execution_count": null,
   "metadata": {},
   "outputs": [
    {
     "name": "stdout",
     "output_type": "stream",
     "text": [
      "Epoch 1/30\n",
      "100/100 [==============================] - 99s 995ms/step - loss: 0.5046 - acc: 0.7550 - val_loss: 0.5063 - val_acc: 0.7530\n",
      "Epoch 2/30\n",
      "100/100 [==============================] - 96s 959ms/step - loss: 0.5205 - acc: 0.7415 - val_loss: 0.5759 - val_acc: 0.7030\n",
      "Epoch 3/30\n",
      "100/100 [==============================] - 94s 938ms/step - loss: 0.5089 - acc: 0.7515 - val_loss: 0.4778 - val_acc: 0.7610\n",
      "Epoch 4/30\n",
      "100/100 [==============================] - 96s 959ms/step - loss: 0.5036 - acc: 0.7515 - val_loss: 0.5433 - val_acc: 0.7310\n",
      "Epoch 5/30\n",
      "100/100 [==============================] - 95s 951ms/step - loss: 0.5058 - acc: 0.7555 - val_loss: 0.5189 - val_acc: 0.7530\n",
      "Epoch 6/30\n",
      "100/100 [==============================] - 93s 934ms/step - loss: 0.4969 - acc: 0.7590 - val_loss: 0.5010 - val_acc: 0.7600\n",
      "Epoch 7/30\n",
      "100/100 [==============================] - 97s 973ms/step - loss: 0.4995 - acc: 0.7570 - val_loss: 0.4939 - val_acc: 0.7530\n",
      "Epoch 8/30\n",
      "100/100 [==============================] - 101s 1s/step - loss: 0.5012 - acc: 0.7530 - val_loss: 0.4876 - val_acc: 0.7660\n",
      "Epoch 9/30\n",
      "100/100 [==============================] - 100s 996ms/step - loss: 0.4938 - acc: 0.7555 - val_loss: 0.4578 - val_acc: 0.7880\n",
      "Epoch 10/30\n",
      "100/100 [==============================] - 95s 946ms/step - loss: 0.4908 - acc: 0.7565 - val_loss: 0.4928 - val_acc: 0.7620\n",
      "Epoch 11/30\n",
      "100/100 [==============================] - 98s 977ms/step - loss: 0.4956 - acc: 0.7570 - val_loss: 0.4639 - val_acc: 0.7830\n",
      "Epoch 12/30\n",
      "100/100 [==============================] - 99s 990ms/step - loss: 0.4703 - acc: 0.7785 - val_loss: 0.4800 - val_acc: 0.7760\n",
      "Epoch 13/30\n",
      "100/100 [==============================] - 99s 985ms/step - loss: 0.4797 - acc: 0.7665 - val_loss: 0.4681 - val_acc: 0.7810\n",
      "Epoch 14/30\n",
      "100/100 [==============================] - 101s 1s/step - loss: 0.4776 - acc: 0.7775 - val_loss: 0.4621 - val_acc: 0.7840\n",
      "Epoch 15/30\n",
      "100/100 [==============================] - 100s 1s/step - loss: 0.4659 - acc: 0.7700 - val_loss: 0.4713 - val_acc: 0.7720\n",
      "Epoch 16/30\n",
      "100/100 [==============================] - 101s 1s/step - loss: 0.4699 - acc: 0.7770 - val_loss: 0.4524 - val_acc: 0.7890\n",
      "Epoch 17/30\n",
      "100/100 [==============================] - 96s 956ms/step - loss: 0.4876 - acc: 0.7595 - val_loss: 0.4740 - val_acc: 0.7730\n",
      "Epoch 18/30\n",
      "100/100 [==============================] - 101s 1s/step - loss: 0.4733 - acc: 0.7715 - val_loss: 0.5032 - val_acc: 0.7560\n",
      "Epoch 19/30\n",
      "100/100 [==============================] - 100s 1s/step - loss: 0.4702 - acc: 0.7775 - val_loss: 0.4914 - val_acc: 0.7650\n",
      "Epoch 20/30\n",
      "100/100 [==============================] - 99s 990ms/step - loss: 0.4793 - acc: 0.7710 - val_loss: 0.6789 - val_acc: 0.6970\n",
      "Epoch 21/30\n",
      "100/100 [==============================] - 98s 984ms/step - loss: 0.4648 - acc: 0.7795 - val_loss: 0.4947 - val_acc: 0.7700\n",
      "Epoch 22/30\n",
      "100/100 [==============================] - 98s 979ms/step - loss: 0.4534 - acc: 0.7855 - val_loss: 0.4790 - val_acc: 0.7790\n",
      "Epoch 23/30\n",
      "100/100 [==============================] - 99s 989ms/step - loss: 0.4606 - acc: 0.7800 - val_loss: 0.4634 - val_acc: 0.7800\n",
      "Epoch 24/30\n",
      "100/100 [==============================] - 116s 1s/step - loss: 0.4627 - acc: 0.7765 - val_loss: 0.4526 - val_acc: 0.7910\n",
      "Epoch 25/30\n",
      "100/100 [==============================] - 112s 1s/step - loss: 0.4651 - acc: 0.7785 - val_loss: 0.4643 - val_acc: 0.7810\n",
      "Epoch 26/30\n",
      " 53/100 [==============>...............] - ETA: 49s - loss: 0.4682 - acc: 0.7802"
     ]
    }
   ],
   "source": [
    "history = model.fit_generator(\n",
    "    train_generator, \n",
    "    steps_per_epoch = 100, # similar to batches\n",
    "    epochs = 30,\n",
    "    validation_data=val_generator,\n",
    "    validation_steps = 50\n",
    ")"
   ]
  },
  {
   "cell_type": "code",
   "execution_count": 7,
   "metadata": {},
   "outputs": [
    {
     "data": {
      "image/png": "[encoded data removed]",
      "text/plain": [
       "<matplotlib.figure.Figure at 0x7fc6fd198d68>"
      ]
     },
     "metadata": {},
     "output_type": "display_data"
    },
    {
     "data": {
      "image/png": "[encoded data removed]",
      "text/plain": [
       "<matplotlib.figure.Figure at 0x7fc6fdf2bd68>"
      ]
     },
     "metadata": {},
     "output_type": "display_data"
    }
   ],
   "source": [
    "def plot_history(history):\n",
    "    plt.plot(history[\"acc\"], label=\"acc\")\n",
    "    plt.plot(history[\"val_acc\"], label=\"val_acc\")\n",
    "    plt.legend()\n",
    "    plt.show()\n",
    "    plt.close()\n",
    "    \n",
    "    plt.plot(history[\"loss\"], label=\"loss\")\n",
    "    plt.plot(history[\"val_loss\"], label=\"val_loss\")\n",
    "    plt.legend()\n",
    "    plt.show()\n",
    "    plt.close()\n",
    "\n",
    "plot_history(history.history) "
   ]
  },
  {
   "cell_type": "markdown",
   "metadata": {},
   "source": [
    "# We learned:\n",
    "\n",
    "Data augmentation & dropout:\n",
    "    * validation accuracy rises\n",
    "    * number of epochs have to be increased (maybe 100 epochs)"
   ]
  },
  {
   "cell_type": "code",
   "execution_count": null,
   "metadata": {},
   "outputs": [],
   "source": []
  }
 ],
 "metadata": {
  "kernelspec": {
   "display_name": "Python 3",
   "language": "python",
   "name": "python3"
  },
  "language_info": {
   "codemirror_mode": {
    "name": "ipython",
    "version": 3
   },
   "file_extension": ".py",
   "mimetype": "text/x-python",
   "name": "python",
   "nbconvert_exporter": "python",
   "pygments_lexer": "ipython3",
   "version": "3.6.5"
  }
 },
 "nbformat": 4,
 "nbformat_minor": 2
}
