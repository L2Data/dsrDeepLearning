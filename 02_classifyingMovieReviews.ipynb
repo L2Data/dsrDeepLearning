{
 "cells": [
  {
   "cell_type": "markdown",
   "metadata": {},
   "source": [
    "# NLP trial"
   ]
  },
  {
   "cell_type": "code",
   "execution_count": 1,
   "metadata": {},
   "outputs": [
    {
     "name": "stderr",
     "output_type": "stream",
     "text": [
      "Using TensorFlow backend.\n"
     ]
    }
   ],
   "source": [
    "%matplotlib inline\n",
    "import matplotlib.pyplot as plt\n",
    "from keras.datasets import imdb\n",
    "from keras import models, layers, optimizers, losses, metrics\n",
    "import numpy as np"
   ]
  },
  {
   "cell_type": "code",
   "execution_count": 2,
   "metadata": {},
   "outputs": [],
   "source": [
    "(train_data, train_label), (test_data, test_label) = imdb.load_data(num_words=10000)"
   ]
  },
  {
   "cell_type": "code",
   "execution_count": 3,
   "metadata": {},
   "outputs": [
    {
     "name": "stdout",
     "output_type": "stream",
     "text": [
      "(25000,)\n"
     ]
    }
   ],
   "source": [
    "print(test_data.shape)"
   ]
  },
  {
   "cell_type": "code",
   "execution_count": 4,
   "metadata": {},
   "outputs": [
    {
     "name": "stdout",
     "output_type": "stream",
     "text": [
      "141\n",
      "43\n"
     ]
    }
   ],
   "source": [
    "print(len(train_data[2]))\n",
    "print(len(train_data[5]))"
   ]
  },
  {
   "cell_type": "markdown",
   "metadata": {},
   "source": [
    "Input data is encoded as numbers.  These are stored in the dirctionary.  \n",
    "\n",
    "Building a text out of it works as follows:"
   ]
  },
  {
   "cell_type": "code",
   "execution_count": 5,
   "metadata": {},
   "outputs": [
    {
     "name": "stdout",
     "output_type": "stream",
     "text": [
      "1\n",
      "? dressed to kill understandably made a bit of a ? when first released in 1980 you had police girl in a role that was mega erotic as angie ? played a sexually frustrated housewife looking for good times in all the wrong ? and there into apartment ? plus nancy allen as a call girl michael caine as norman ? sophisticated new york cousin and enough lurid imagery to last two movies of the period today it's slightly less ? by standards and such though the ? version has some of the most hot content of any of de palma's films at least in his quasi auteur period of the 70s and early 80s where he seemed to repeat themes over and over ideas taken right off the film ? of hitchcock classics and given a ? ? it's a simple tale that one partly already saw in sisters and then again to an extent in body double and also in blow out ? allen plays call girl liz blake who has to clear her name of suspicion of killing kate dickinson in full blown ? mode after being found with a razor the murder weapon from dr ? office michael caine stone cold performance most of the way br br from the start which de palma seems to do as a way of setting up a dangerous sexual fantasy scene as a way of ? the opening scene of carrie which perhaps he does just in editing terms we get a series of technical knock out turns through the point of view of style itself the tracking shots in the museum meant to stir up more of a fascination with the process itself of following and wanting to be followed than any kind of tension the chase through the subway a ? to carlito's way is done with a precise level of suspense meanwhile with a slightly exploitation bit thrown in with the black gang the character of peter ? son keith gordon who plays what is essentially a younger version of the real life de palma as a kid science geek obsessed with hitchcock and ? and it's all entertaining and ? as hell as something that comes close to a real ? of what makes de palma's thrillers so unique while being so self ? ? by a ? attitude of film making br br on the other hand that same self consciousness ended up coming back to bite the director in the butt a few times in recent years and somehow in dressed to kill it starts to become very ? and disappointing as the story has to wrap itself up as the psycho themes come together even more apparently man who wants a sex change doesn't even think he's killing as it is she who is doing it there is an ? scene in the police station that makes the aforementioned ? film look like an astonishing psychological revelation and the final scenes at ? house also calling painfully into ? a much more accomplished sequence in carrie are meant for a manipulation that even for de palma is asking for it the final shot especially albeit a ? class in how to copy yourself yet there is a very deranged and within itself perfect scene at the mental hospital amid this confused denouement where the doctor does some work on a nurse to which all the other inmates act like animals in a ? and an over head shot going up and up over the scene is one of the best shots of sexual general ? ever captured on film br br a shame then that the film ends on such a strange and unsettling manner where up until then it is a remarkable piece of pulp cinema where class is all around in the technical aspects soft lighting intricate camera movements seemingly so simple amid subject matter that should be found in the mix of ? for 25 cents it's no masterpiece but i'd certainly take it over most of the director's recent thrillers any day\n"
     ]
    }
   ],
   "source": [
    "word_index = imdb.get_word_index()\n",
    "\n",
    "reverse_word_index = dict(\n",
    "    [(value, key) for key, value in word_index.items()]\n",
    ")\n",
    "\n",
    "sample_index = 65\n",
    "decoded_review = \" \".join(\n",
    "    [reverse_word_index.get(i - 3, \"?\") for i in train_data[sample_index]]\n",
    ")\n",
    "\n",
    "print(train_label[sample_index])\n",
    "print(decoded_review)"
   ]
  },
  {
   "cell_type": "markdown",
   "metadata": {},
   "source": [
    "Binary label encodes thumbs up (1) / tumbs down (0)\n",
    "\n",
    "Goal:  Train the system to classify 1 / 0 on the bases of the review text.\n",
    "\n",
    "## Data preprocessing\n",
    "\n",
    "Input data has different lengths.  To equalize that, we map each sequence onto the dictionary.  Therefore, we are doing doing the following:\n",
    "    \n",
    "Example:\n",
    "\n",
    "    Having a dictionary \n",
    "        dict = [am, i, the , hello, tristan, world]\n",
    "    \n",
    "    I am tristan   = [1, 1, 0, 0, 1, 0]\n",
    "    \n",
    "    I am the world = [1, 1, 1, 0, 0, 1]\n",
    "    \n",
    "    hello world    = [0, 0, 0, 1, 0, 1]"
   ]
  },
  {
   "cell_type": "code",
   "execution_count": 6,
   "metadata": {},
   "outputs": [],
   "source": [
    "def vectorize_sequence(sequences, dimension=10000):\n",
    "    results = np.zeros((len(sequences), dimension))\n",
    "    for i, sequence in enumerate(sequences):\n",
    "        results[i, sequence] = 1                    # fancy indexing\n",
    "    return results\n",
    "\n",
    "x_train = vectorize_sequence(train_data)\n",
    "x_test = vectorize_sequence(test_data)\n",
    "\n",
    "y_train = np.asarray(train_label).astype(\"float32\")\n",
    "y_test = np.asarray(test_label).astype(\"float32\")"
   ]
  },
  {
   "cell_type": "code",
   "execution_count": 7,
   "metadata": {},
   "outputs": [
    {
     "name": "stdout",
     "output_type": "stream",
     "text": [
      "[0. 1. 1. ... 0. 0. 0.]\n",
      "1.0\n"
     ]
    }
   ],
   "source": [
    "print(x_train[0])\n",
    "print(y_train[0])"
   ]
  },
  {
   "cell_type": "markdown",
   "metadata": {},
   "source": [
    "Now we are done with the data preprocessing.\n",
    "\n",
    "## Defining a validation set\n",
    "\n",
    "Now split the test data in two pieces:\n",
    "    1. validation  <-\n",
    "    2. test"
   ]
  },
  {
   "cell_type": "code",
   "execution_count": 8,
   "metadata": {},
   "outputs": [],
   "source": [
    "x_val = x_train[: 10000]\n",
    "partial_x_train = x_train[10000: ]\n",
    "\n",
    "y_val = y_train[: 10000]\n",
    "partial_y_train = y_train[10000: ]"
   ]
  },
  {
   "cell_type": "code",
   "execution_count": 54,
   "metadata": {},
   "outputs": [
    {
     "name": "stdout",
     "output_type": "stream",
     "text": [
      "_________________________________________________________________\n",
      "Layer (type)                 Output Shape              Param #   \n",
      "=================================================================\n",
      "dense_31 (Dense)             (None, 6)                 60006     \n",
      "_________________________________________________________________\n",
      "dense_32 (Dense)             (None, 2)                 14        \n",
      "_________________________________________________________________\n",
      "dense_33 (Dense)             (None, 1)                 3         \n",
      "=================================================================\n",
      "Total params: 60,023\n",
      "Trainable params: 60,023\n",
      "Non-trainable params: 0\n",
      "_________________________________________________________________\n"
     ]
    }
   ],
   "source": [
    "model = models.Sequential()\n",
    "\n",
    "model.add(layers.Dense(\n",
    "    16,   # Number of hidden units / output size\n",
    "    activation=\"relu\",\n",
    "    input_shape=(10000, )\n",
    "))\n",
    "\n",
    "model.add(layers.Dense(\n",
    "    16,\n",
    "    activation=\"relu\"\n",
    "))\n",
    "          \n",
    "model.add(layers.Dense(\n",
    "    1,\n",
    "    activation=\"sigmoid\"\n",
    "))\n",
    "\n",
    "model.summary()\n",
    "\n",
    "model.compile(\n",
    "    optimizer=optimizers.RMSprop(lr=0.0015),\n",
    "    loss=losses.binary_crossentropy,\n",
    "    metrics=[metrics.binary_accuracy]\n",
    ")"
   ]
  },
  {
   "cell_type": "code",
   "execution_count": 55,
   "metadata": {},
   "outputs": [
    {
     "name": "stdout",
     "output_type": "stream",
     "text": [
      "Train on 15000 samples, validate on 10000 samples\n",
      "Epoch 1/20\n",
      "15000/15000 [==============================] - 2s 162us/step - loss: 0.6088 - binary_accuracy: 0.6865 - val_loss: 0.5553 - val_binary_accuracy: 0.7745\n",
      "Epoch 2/20\n",
      "15000/15000 [==============================] - 3s 174us/step - loss: 0.5087 - binary_accuracy: 0.8238 - val_loss: 0.5085 - val_binary_accuracy: 0.8068\n",
      "Epoch 3/20\n",
      "15000/15000 [==============================] - 3s 185us/step - loss: 0.4564 - binary_accuracy: 0.8754 - val_loss: 0.4883 - val_binary_accuracy: 0.8136\n",
      "Epoch 4/20\n",
      "15000/15000 [==============================] - 2s 152us/step - loss: 0.4183 - binary_accuracy: 0.9056 - val_loss: 0.4607 - val_binary_accuracy: 0.8628\n",
      "Epoch 5/20\n",
      "15000/15000 [==============================] - 2s 152us/step - loss: 0.3891 - binary_accuracy: 0.9283 - val_loss: 0.4472 - val_binary_accuracy: 0.8763\n",
      "Epoch 6/20\n",
      "15000/15000 [==============================] - 2s 153us/step - loss: 0.3637 - binary_accuracy: 0.9427 - val_loss: 0.4394 - val_binary_accuracy: 0.8796\n",
      "Epoch 7/20\n",
      "15000/15000 [==============================] - 2s 156us/step - loss: 0.3431 - binary_accuracy: 0.9530 - val_loss: 0.4584 - val_binary_accuracy: 0.8622\n",
      "Epoch 8/20\n",
      "15000/15000 [==============================] - 2s 155us/step - loss: 0.3234 - binary_accuracy: 0.9602 - val_loss: 0.4478 - val_binary_accuracy: 0.8702\n",
      "Epoch 9/20\n",
      "15000/15000 [==============================] - 2s 163us/step - loss: 0.3066 - binary_accuracy: 0.9667 - val_loss: 0.4437 - val_binary_accuracy: 0.8743\n",
      "Epoch 10/20\n",
      "15000/15000 [==============================] - 2s 161us/step - loss: 0.2905 - binary_accuracy: 0.9720 - val_loss: 0.4388 - val_binary_accuracy: 0.8754\n",
      "Epoch 11/20\n",
      "15000/15000 [==============================] - 2s 160us/step - loss: 0.2765 - binary_accuracy: 0.9753 - val_loss: 0.4522 - val_binary_accuracy: 0.8730\n",
      "Epoch 12/20\n",
      "15000/15000 [==============================] - 2s 161us/step - loss: 0.2639 - binary_accuracy: 0.9808 - val_loss: 0.4686 - val_binary_accuracy: 0.8688\n",
      "Epoch 13/20\n",
      "15000/15000 [==============================] - 2s 161us/step - loss: 0.2504 - binary_accuracy: 0.9827 - val_loss: 0.4841 - val_binary_accuracy: 0.8659\n",
      "Epoch 14/20\n",
      "15000/15000 [==============================] - 3s 168us/step - loss: 0.2404 - binary_accuracy: 0.9843 - val_loss: 0.5734 - val_binary_accuracy: 0.8500\n",
      "Epoch 15/20\n",
      "15000/15000 [==============================] - 3s 169us/step - loss: 0.2301 - binary_accuracy: 0.9855 - val_loss: 0.5336 - val_binary_accuracy: 0.8599\n",
      "Epoch 16/20\n",
      "15000/15000 [==============================] - 3s 167us/step - loss: 0.2201 - binary_accuracy: 0.9877 - val_loss: 0.5337 - val_binary_accuracy: 0.8609\n",
      "Epoch 17/20\n",
      "15000/15000 [==============================] - 2s 164us/step - loss: 0.2113 - binary_accuracy: 0.9886 - val_loss: 0.5510 - val_binary_accuracy: 0.8597\n",
      "Epoch 18/20\n",
      "15000/15000 [==============================] - 2s 166us/step - loss: 0.2032 - binary_accuracy: 0.9887 - val_loss: 0.6064 - val_binary_accuracy: 0.8555\n",
      "Epoch 19/20\n",
      "15000/15000 [==============================] - 3s 200us/step - loss: 0.1963 - binary_accuracy: 0.9888 - val_loss: 0.6152 - val_binary_accuracy: 0.8553\n",
      "Epoch 20/20\n",
      "15000/15000 [==============================] - 3s 209us/step - loss: 0.1880 - binary_accuracy: 0.9897 - val_loss: 0.6124 - val_binary_accuracy: 0.8581\n"
     ]
    }
   ],
   "source": [
    "history = model.fit(\n",
    "    partial_x_train, partial_y_train,\n",
    "    epochs=20,\n",
    "    batch_size=512,\n",
    "    validation_data=(x_val, y_val)\n",
    ")"
   ]
  },
  {
   "cell_type": "code",
   "execution_count": 56,
   "metadata": {},
   "outputs": [
    {
     "name": "stdout",
     "output_type": "stream",
     "text": [
      "{'val_loss': [0.5553202676773071, 0.5085094835281372, 0.4883024980545044, 0.46071067447662356, 0.447166924571991, 0.43941950645446776, 0.45844864315986633, 0.44776366634368897, 0.4436542646408081, 0.4387910879611969, 0.45220333395004275, 0.46858066396713255, 0.4841140289306641, 0.5733950271606445, 0.5335547667503356, 0.5336606590270996, 0.551015954208374, 0.606368557357788, 0.6152366879463196, 0.6123610533714294], 'val_binary_accuracy': [0.7745000007629395, 0.8068, 0.8136000002861022, 0.8627999995231629, 0.8763, 0.8795999999046326, 0.8621999997138977, 0.8701999997138977, 0.8742999998092651, 0.8753999998092651, 0.8729999997138977, 0.8687999997138977, 0.8658999995231629, 0.8499999992370606, 0.8598999994277954, 0.860900000667572, 0.8596999992370605, 0.8554999992370605, 0.8553000007629394, 0.8580999992370606], 'loss': [0.6088058731396992, 0.5087473052978516, 0.4564092382113139, 0.41833371017773946, 0.389091028102239, 0.3636644759654999, 0.3430522557735443, 0.3233643827279409, 0.30659004804293316, 0.29048936661084496, 0.2765361595630646, 0.2639085067431132, 0.250406076892217, 0.24035287988185883, 0.23014762472311656, 0.2201319816748301, 0.21132569135824839, 0.2031840851386388, 0.19633392542203268, 0.18798031724294026], 'binary_accuracy': [0.6865333332697551, 0.8238000001589457, 0.8754000001907348, 0.9056000001271566, 0.9283333332061767, 0.9427333331108093, 0.9529999998092651, 0.9601999998092652, 0.9667333333015442, 0.9719999998092651, 0.975266666730245, 0.9808000000635783, 0.9826666667302449, 0.984333333492279, 0.9854666669209798, 0.9876666665712992, 0.9885999999046325, 0.9887333331425985, 0.9887999999046325, 0.9897333335876465]}\n"
     ]
    }
   ],
   "source": [
    "print(history.history) "
   ]
  },
  {
   "cell_type": "code",
   "execution_count": 57,
   "metadata": {},
   "outputs": [
    {
     "data": {
      "image/png": "[encoded data removed]",
      "text/plain": [
       "<matplotlib.figure.Figure at 0x7f76253985f8>"
      ]
     },
     "metadata": {},
     "output_type": "display_data"
    },
    {
     "data": {
      "image/png": "[encoded data removed]",
      "text/plain": [
       "<matplotlib.figure.Figure at 0x7f7624bac240>"
      ]
     },
     "metadata": {},
     "output_type": "display_data"
    }
   ],
   "source": [
    "def plot_history(history):\n",
    "    plt.plot(history[\"binary_accuracy\"], label=\"acc\")\n",
    "    plt.plot(history[\"val_binary_accuracy\"], label=\"val_acc\")\n",
    "    plt.legend()\n",
    "    plt.show()\n",
    "    plt.close()\n",
    "    \n",
    "    plt.plot(history[\"loss\"], label=\"loss\")\n",
    "    plt.plot(history[\"val_loss\"], label=\"val_loss\")\n",
    "    plt.legend()\n",
    "    plt.show()\n",
    "    plt.close()\n",
    "\n",
    "plot_history(history.history)   "
   ]
  },
  {
   "cell_type": "markdown",
   "metadata": {},
   "source": [
    "Plot 1 - blue (training data):\n",
    "- accuracy has a steep start and converges then\n",
    "- if start is too steep:  lower lr\n",
    "- if start is not steep enough:  enlargen lr\n",
    "\n",
    "Plot 1 - orange (validation data):\n",
    "- __overfitting __\n",
    "- stop training\n",
    "\n",
    "\n",
    "## Overcome overfitting\n",
    "### 1. Decrease size of the neuronal network\n",
    "### 2. Stop learning at minimum loss\n",
    "### 3. Increase database"
   ]
  },
  {
   "cell_type": "code",
   "execution_count": null,
   "metadata": {},
   "outputs": [],
   "source": []
  },
  {
   "cell_type": "code",
   "execution_count": null,
   "metadata": {},
   "outputs": [],
   "source": []
  },
  {
   "cell_type": "code",
   "execution_count": null,
   "metadata": {},
   "outputs": [],
   "source": []
  }
 ],
 "metadata": {
  "kernelspec": {
   "display_name": "Python 3",
   "language": "python",
   "name": "python3"
  },
  "language_info": {
   "codemirror_mode": {
    "name": "ipython",
    "version": 3
   },
   "file_extension": ".py",
   "mimetype": "text/x-python",
   "name": "python",
   "nbconvert_exporter": "python",
   "pygments_lexer": "ipython3",
   "version": "3.6.5"
  }
 },
 "nbformat": 4,
 "nbformat_minor": 2
}
