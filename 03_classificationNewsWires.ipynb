{
 "cells": [
  {
   "cell_type": "code",
   "execution_count": 1,
   "metadata": {},
   "outputs": [
    {
     "name": "stderr",
     "output_type": "stream",
     "text": [
      "Using TensorFlow backend.\n"
     ]
    }
   ],
   "source": [
    "%matplotlib inline\n",
    "import matplotlib.pyplot as plt\n",
    "from keras.datasets import reuters\n",
    "from keras import models, layers\n",
    "from keras.utils import to_categorical\n",
    "import numpy as np"
   ]
  },
  {
   "cell_type": "code",
   "execution_count": 2,
   "metadata": {},
   "outputs": [],
   "source": [
    "nWords = 10000\n",
    "\n",
    "(train_data, train_labels), (test_data, test_labels) = reuters.load_data(num_words=nWords)"
   ]
  },
  {
   "cell_type": "code",
   "execution_count": 3,
   "metadata": {},
   "outputs": [],
   "source": [
    "outputDim = train_labels.max()"
   ]
  },
  {
   "cell_type": "code",
   "execution_count": 4,
   "metadata": {},
   "outputs": [],
   "source": [
    "word_index = reuters.get_word_index()"
   ]
  },
  {
   "cell_type": "code",
   "execution_count": 5,
   "metadata": {},
   "outputs": [
    {
     "name": "stdout",
     "output_type": "stream",
     "text": [
      "28\n",
      "? the u s commodity credit corporation ccc has accepted a bid for an export bonus to cover a sale of 186 head of dairy cattle to egypt the u s agriculture department said the department said the cattle are for delivery may 7 june 7 1987 and the bonus awarded was 1 888 06 dlrs per head the bonus was made to first interstate trading co and will be paid to the exporter in the form of commodities from ccc stocks the department said an additional 7 959 head of dairy cattle are still available to egypt under the export enhancement program initiative announced september 12 1986 it said reuter 3\n"
     ]
    }
   ],
   "source": [
    "reverse_word_index = dict(\n",
    "    [(value, key) for key, value in word_index.items()]\n",
    ")\n",
    "\n",
    "sample_index = 83\n",
    "decoded_review = \" \".join(\n",
    "    [reverse_word_index.get(i - 3, \"?\") for i in train_data[sample_index]]\n",
    ")\n",
    "\n",
    "print(train_labels[sample_index])\n",
    "print(decoded_review)"
   ]
  },
  {
   "cell_type": "code",
   "execution_count": 6,
   "metadata": {},
   "outputs": [],
   "source": [
    "def vectorize_sequence(sequences, dimension=nWords):\n",
    "    results = np.zeros((len(sequences), dimension))\n",
    "    for i, sequence in enumerate(sequences):\n",
    "        results[i, sequence] = 1                    # fancy indexing\n",
    "    return results\n",
    "\n",
    "x_train = vectorize_sequence(train_data)\n",
    "x_test = vectorize_sequence(test_data)\n",
    "\n",
    "y_train = np.asarray(train_labels).astype(\"float32\")\n",
    "y_test = np.asarray(test_labels).astype(\"float32\")"
   ]
  },
  {
   "cell_type": "code",
   "execution_count": 7,
   "metadata": {},
   "outputs": [
    {
     "name": "stdout",
     "output_type": "stream",
     "text": [
      "(6982, 46)\n"
     ]
    }
   ],
   "source": [
    "n_val = 2000\n",
    "\n",
    "x_val = x_train[: n_val]\n",
    "partial_x_train = x_train[n_val: ]\n",
    "\n",
    "y_val = y_train[: n_val]\n",
    "partial_y_train = y_train[n_val: ]\n",
    "\n",
    "\n",
    "# Need to transform the train_labels and test_labels otherwise you'll run into an error during the next step\n",
    "y_val = to_categorical(y_val)\n",
    "partial_y_train = to_categorical(partial_y_train)\n",
    "y_test = to_categorical(y_test)\n",
    "print(partial_y_train.shape)"
   ]
  },
  {
   "cell_type": "code",
   "execution_count": null,
   "metadata": {},
   "outputs": [],
   "source": []
  },
  {
   "cell_type": "code",
   "execution_count": null,
   "metadata": {},
   "outputs": [],
   "source": []
  },
  {
   "cell_type": "code",
   "execution_count": 8,
   "metadata": {},
   "outputs": [
    {
     "name": "stdout",
     "output_type": "stream",
     "text": [
      "_________________________________________________________________\n",
      "Layer (type)                 Output Shape              Param #   \n",
      "=================================================================\n",
      "dense_1 (Dense)              (None, 50)                500050    \n",
      "_________________________________________________________________\n",
      "dense_2 (Dense)              (None, 48)                2448      \n",
      "_________________________________________________________________\n",
      "dense_3 (Dense)              (None, 46)                2254      \n",
      "=================================================================\n",
      "Total params: 504,752\n",
      "Trainable params: 504,752\n",
      "Non-trainable params: 0\n",
      "_________________________________________________________________\n"
     ]
    }
   ],
   "source": [
    "# Initialize model\n",
    "model = models.Sequential()\n",
    "\n",
    "# Adding a layer to the neuronal network\n",
    "model.add(layers.Dense(\n",
    "    50, \n",
    "    activation=\"relu\", \n",
    "    input_shape = (nWords, )\n",
    "))\n",
    "\n",
    "\n",
    "# Adding a layer to the neuronal network\n",
    "model.add(layers.Dense(\n",
    "    48, \n",
    "    activation=\"relu\"\n",
    "))\n",
    "\n",
    "# Add another layer\n",
    "model.add(layers.Dense(\n",
    "    46, \n",
    "    activation=\"softmax\"\n",
    "))\n",
    "\n",
    "# Print summary\n",
    "model.summary()\n",
    "\n",
    "# The architecture of the model is setup but it cannot been trained yet.  Therefore, it needs to be compiled first:\n",
    "model.compile(\n",
    "    optimizer=\"rmsprop\",\n",
    "    loss=\"categorical_crossentropy\",\n",
    "    metrics=[\"accuracy\"]\n",
    ")"
   ]
  },
  {
   "cell_type": "code",
   "execution_count": 9,
   "metadata": {},
   "outputs": [
    {
     "name": "stdout",
     "output_type": "stream",
     "text": [
      "Train on 6982 samples, validate on 2000 samples\n",
      "Epoch 1/10\n",
      "6982/6982 [==============================] - 1s 146us/step - loss: 2.4613 - acc: 0.5444 - val_loss: 1.7111 - val_acc: 0.6435\n",
      "Epoch 2/10\n",
      "6982/6982 [==============================] - 1s 119us/step - loss: 1.3704 - acc: 0.7054 - val_loss: 1.3809 - val_acc: 0.6880\n",
      "Epoch 3/10\n",
      "6982/6982 [==============================] - 1s 117us/step - loss: 1.0392 - acc: 0.7726 - val_loss: 1.2031 - val_acc: 0.7315\n",
      "Epoch 4/10\n",
      "6982/6982 [==============================] - 1s 120us/step - loss: 0.8155 - acc: 0.8256 - val_loss: 1.1048 - val_acc: 0.7560\n",
      "Epoch 5/10\n",
      "6982/6982 [==============================] - 1s 119us/step - loss: 0.6435 - acc: 0.8612 - val_loss: 1.0600 - val_acc: 0.7700\n",
      "Epoch 6/10\n",
      "6982/6982 [==============================] - 1s 119us/step - loss: 0.5082 - acc: 0.8922 - val_loss: 1.0144 - val_acc: 0.7885\n",
      "Epoch 7/10\n",
      "6982/6982 [==============================] - 1s 119us/step - loss: 0.4020 - acc: 0.9155 - val_loss: 1.0221 - val_acc: 0.7835\n",
      "Epoch 8/10\n",
      "6982/6982 [==============================] - 1s 119us/step - loss: 0.3193 - acc: 0.9308 - val_loss: 1.0163 - val_acc: 0.7920\n",
      "Epoch 9/10\n",
      "6982/6982 [==============================] - 1s 122us/step - loss: 0.2623 - acc: 0.9411 - val_loss: 1.0742 - val_acc: 0.7695\n",
      "Epoch 10/10\n",
      "6982/6982 [==============================] - 1s 126us/step - loss: 0.2183 - acc: 0.9482 - val_loss: 1.0172 - val_acc: 0.7975\n"
     ]
    }
   ],
   "source": [
    "history = model.fit(\n",
    "    partial_x_train, partial_y_train,\n",
    "    epochs=10,\n",
    "    batch_size=128*2,\n",
    "    validation_data=(x_val, y_val)\n",
    ")"
   ]
  },
  {
   "cell_type": "code",
   "execution_count": 10,
   "metadata": {},
   "outputs": [
    {
     "name": "stdout",
     "output_type": "stream",
     "text": [
      "{'val_loss': [1.711107162475586, 1.3809405832290649, 1.2030685482025147, 1.1048061809539795, 1.0599779539108276, 1.014428349494934, 1.022132158279419, 1.016341817855835, 1.0742336530685426, 1.0172094011306763], 'val_acc': [0.6434999995231628, 0.6880000019073487, 0.7314999995231628, 0.7560000004768371, 0.77, 0.7885000014305115, 0.7835000009536743, 0.7919999985694886, 0.7694999976158142, 0.7975000004768371], 'loss': [2.4612507853935526, 1.3704185062238803, 1.039153686398867, 0.8155199505646978, 0.6434541956567723, 0.5082384775870511, 0.4019980947085555, 0.31933354294187394, 0.2622832148259842, 0.21826288501023222], 'acc': [0.5443998856928314, 0.7053852765446097, 0.7725580061141074, 0.8255514177269391, 0.8612145517897517, 0.8921512457881197, 0.915496992043867, 0.9308221137684145, 0.9411343451865728, 0.948152391881869]}\n"
     ]
    }
   ],
   "source": [
    "print(history.history) "
   ]
  },
  {
   "cell_type": "code",
   "execution_count": 11,
   "metadata": {},
   "outputs": [
    {
     "data": {
      "image/png": "[encoded data removed]",
      "text/plain": [
       "<matplotlib.figure.Figure at 0x7f37fd7faba8>"
      ]
     },
     "metadata": {},
     "output_type": "display_data"
    },
    {
     "data": {
      "image/png": "[encoded data removed]",
      "text/plain": [
       "<matplotlib.figure.Figure at 0x7f37fd265ef0>"
      ]
     },
     "metadata": {},
     "output_type": "display_data"
    }
   ],
   "source": [
    "def plot_history(history):\n",
    "    plt.plot(history[\"acc\"], label=\"acc\")\n",
    "    plt.plot(history[\"val_acc\"], label=\"val_acc\")\n",
    "    plt.legend()\n",
    "    plt.show()\n",
    "    plt.close()\n",
    "    \n",
    "    plt.plot(history[\"loss\"], label=\"loss\")\n",
    "    plt.plot(history[\"val_loss\"], label=\"val_loss\")\n",
    "    plt.legend()\n",
    "    plt.show()\n",
    "    plt.close()\n",
    "\n",
    "plot_history(history.history)   "
   ]
  },
  {
   "cell_type": "code",
   "execution_count": 12,
   "metadata": {},
   "outputs": [
    {
     "name": "stdout",
     "output_type": "stream",
     "text": [
      "2246/2246 [==============================] - 0s 103us/step\n",
      "1.0465661982606802 0.7809439003202179\n"
     ]
    }
   ],
   "source": [
    "test_loss, test_acc = model.evaluate(x_test, y_test)\n",
    "print(test_loss, test_acc)"
   ]
  },
  {
   "cell_type": "code",
   "execution_count": null,
   "metadata": {},
   "outputs": [],
   "source": []
  },
  {
   "cell_type": "code",
   "execution_count": null,
   "metadata": {},
   "outputs": [],
   "source": []
  },
  {
   "cell_type": "code",
   "execution_count": null,
   "metadata": {},
   "outputs": [],
   "source": []
  },
  {
   "cell_type": "code",
   "execution_count": null,
   "metadata": {},
   "outputs": [],
   "source": []
  },
  {
   "cell_type": "code",
   "execution_count": null,
   "metadata": {},
   "outputs": [],
   "source": []
  },
  {
   "cell_type": "code",
   "execution_count": null,
   "metadata": {},
   "outputs": [],
   "source": []
  }
 ],
 "metadata": {
  "kernelspec": {
   "display_name": "Python 3",
   "language": "python",
   "name": "python3"
  },
  "language_info": {
   "codemirror_mode": {
    "name": "ipython",
    "version": 3
   },
   "file_extension": ".py",
   "mimetype": "text/x-python",
   "name": "python",
   "nbconvert_exporter": "python",
   "pygments_lexer": "ipython3",
   "version": "3.6.5"
  }
 },
 "nbformat": 4,
 "nbformat_minor": 2
}
