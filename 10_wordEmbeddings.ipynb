{
 "cells": [
  {
   "cell_type": "code",
   "execution_count": 70,
   "metadata": {},
   "outputs": [],
   "source": [
    "%matplotlib inline\n",
    "import matplotlib.pyplot as plt\n",
    "from keras import models, layers, preprocessing\n",
    "from keras.datasets import imdb\n",
    "\n",
    "max_features =7000  # size of the vocabulary\n",
    "max_len = 150 # restrict the length of each loaded review to 20"
   ]
  },
  {
   "cell_type": "markdown",
   "metadata": {},
   "source": [
    "Building the model"
   ]
  },
  {
   "cell_type": "code",
   "execution_count": 71,
   "metadata": {},
   "outputs": [
    {
     "name": "stdout",
     "output_type": "stream",
     "text": [
      "_________________________________________________________________\n",
      "Layer (type)                 Output Shape              Param #   \n",
      "=================================================================\n",
      "embedding_19 (Embedding)     (None, None, 64)          64000     \n",
      "=================================================================\n",
      "Total params: 64,000\n",
      "Trainable params: 64,000\n",
      "Non-trainable params: 0\n",
      "_________________________________________________________________\n"
     ]
    }
   ],
   "source": [
    "model = models.Sequential()\n",
    "\n",
    "model.add(layers.Embedding(1000, 64))\n",
    "\n",
    "model.summary()"
   ]
  },
  {
   "cell_type": "markdown",
   "metadata": {},
   "source": [
    "Loading the data"
   ]
  },
  {
   "cell_type": "code",
   "execution_count": 72,
   "metadata": {},
   "outputs": [],
   "source": [
    "(x_train, y_train), (x_test, y_test) = imdb.load_data(num_words=max_features)"
   ]
  },
  {
   "cell_type": "code",
   "execution_count": 73,
   "metadata": {},
   "outputs": [],
   "source": [
    "x_train = preprocessing.sequence.pad_sequences(x_train, maxlen = max_len)\n",
    "x_test = preprocessing.sequence.pad_sequences(x_test, maxlen = max_len)"
   ]
  },
  {
   "cell_type": "markdown",
   "metadata": {},
   "source": [
    "##### pad_sequence:  \n",
    "If sequence which is fed in is shorter than max_len, something is added.  Otherwise it is just cut off after max_len."
   ]
  },
  {
   "cell_type": "code",
   "execution_count": 74,
   "metadata": {},
   "outputs": [
    {
     "name": "stdout",
     "output_type": "stream",
     "text": [
      "(25000, 150) (25000, 150)\n"
     ]
    }
   ],
   "source": [
    "print(x_train.shape, x_test.shape)"
   ]
  },
  {
   "cell_type": "code",
   "execution_count": 75,
   "metadata": {},
   "outputs": [
    {
     "name": "stdout",
     "output_type": "stream",
     "text": [
      "[  12   16   43  530   38   76   15   13 1247    4   22   17  515   17\n",
      "   12   16  626   18    2    5   62  386   12    8  316    8  106    5\n",
      "    4 2223 5244   16  480   66 3785   33    4  130   12   16   38  619\n",
      "    5   25  124   51   36  135   48   25 1415   33    6   22   12  215\n",
      "   28   77   52    5   14  407   16   82    2    8    4  107  117 5952\n",
      "   15  256    4    2    7 3766    5  723   36   71   43  530  476   26\n",
      "  400  317   46    7    4    2 1029   13  104   88    4  381   15  297\n",
      "   98   32 2071   56   26  141    6  194    2   18    4  226   22   21\n",
      "  134  476   26  480    5  144   30 5535   18   51   36   28  224   92\n",
      "   25  104    4  226   65   16   38 1334   88   12   16  283    5   16\n",
      " 4472  113  103   32   15   16 5345   19  178   32]\n"
     ]
    }
   ],
   "source": [
    "print(x_train[0])"
   ]
  },
  {
   "cell_type": "markdown",
   "metadata": {},
   "source": [
    "# Data science text preprocessing in general:\n",
    "\n",
    "- What is your vocabulary\n",
    "- Sort vocabulary by number of occurences -> encode text against the vocabulary with the indices\n",
    "\n",
    "\n",
    "##### The program learns how to embed words into an abstract vector representation while keeping the semantics."
   ]
  },
  {
   "cell_type": "code",
   "execution_count": 76,
   "metadata": {},
   "outputs": [
    {
     "name": "stdout",
     "output_type": "stream",
     "text": [
      "_________________________________________________________________\n",
      "Layer (type)                 Output Shape              Param #   \n",
      "=================================================================\n",
      "embedding_20 (Embedding)     (None, 150, 8)            56000     \n",
      "_________________________________________________________________\n",
      "flatten_14 (Flatten)         (None, 1200)              0         \n",
      "_________________________________________________________________\n",
      "dense_19 (Dense)             (None, 1)                 1201      \n",
      "=================================================================\n",
      "Total params: 57,201\n",
      "Trainable params: 57,201\n",
      "Non-trainable params: 0\n",
      "_________________________________________________________________\n"
     ]
    }
   ],
   "source": [
    "model = models.Sequential()\n",
    "\n",
    "model.add(layers.Embedding(\n",
    "    max_features, # number of words used -> here, use the first 10000 words of your vocabulary\n",
    "    8, # length of the embedding which is created by the NN\n",
    "    input_length = max_len # feed 20 words into the embedding layer\n",
    "))\n",
    "\n",
    "model.add(layers.Flatten()) # turns a 20x8 matrix into a 160 vector; not throwing away any information\n",
    "\n",
    "model.add(layers.Dense(\n",
    "    1, # binary output\n",
    "    activation=\"sigmoid\" # activation function for cassification (here binary, thus sigmoid, otherwise softmax)\n",
    "))\n",
    "\n",
    "model.compile(\n",
    "    optimizer=\"rmsprop\",\n",
    "    loss=\"binary_crossentropy\",\n",
    "    metrics=[\"accuracy\"]\n",
    ")\n",
    "\n",
    "model.summary()"
   ]
  },
  {
   "cell_type": "code",
   "execution_count": 79,
   "metadata": {},
   "outputs": [
    {
     "name": "stdout",
     "output_type": "stream",
     "text": [
      "Train on 20000 samples, validate on 5000 samples\n",
      "Epoch 1/10\n",
      "20000/20000 [==============================] - 1s 52us/step - loss: 0.0158 - acc: 0.9969 - val_loss: 0.5409 - val_acc: 0.8508\n",
      "Epoch 2/10\n",
      "20000/20000 [==============================] - 1s 51us/step - loss: 0.0125 - acc: 0.9978 - val_loss: 0.5697 - val_acc: 0.8490\n",
      "Epoch 3/10\n",
      "20000/20000 [==============================] - 1s 51us/step - loss: 0.0098 - acc: 0.9986 - val_loss: 0.5974 - val_acc: 0.8484\n",
      "Epoch 4/10\n",
      "20000/20000 [==============================] - 1s 65us/step - loss: 0.0080 - acc: 0.9987 - val_loss: 0.6262 - val_acc: 0.8460\n",
      "Epoch 5/10\n",
      "20000/20000 [==============================] - 1s 63us/step - loss: 0.0064 - acc: 0.9991 - val_loss: 0.6521 - val_acc: 0.8448\n",
      "Epoch 6/10\n",
      "20000/20000 [==============================] - 1s 66us/step - loss: 0.0052 - acc: 0.9992 - val_loss: 0.6795 - val_acc: 0.8428\n",
      "Epoch 7/10\n",
      "20000/20000 [==============================] - 1s 66us/step - loss: 0.0043 - acc: 0.9994 - val_loss: 0.7054 - val_acc: 0.8430\n",
      "Epoch 8/10\n",
      "20000/20000 [==============================] - 1s 54us/step - loss: 0.0035 - acc: 0.9992 - val_loss: 0.7321 - val_acc: 0.8432\n",
      "Epoch 9/10\n",
      "20000/20000 [==============================] - 1s 56us/step - loss: 0.0029 - acc: 0.9994 - val_loss: 0.7762 - val_acc: 0.8394\n",
      "Epoch 10/10\n",
      "20000/20000 [==============================] - 1s 53us/step - loss: 0.0024 - acc: 0.9996 - val_loss: 0.7921 - val_acc: 0.8414\n"
     ]
    }
   ],
   "source": [
    "history = model.fit(\n",
    "    x_train, y_train, # input, output of the nn\n",
    "    batch_size = 32,\n",
    "    epochs=10,\n",
    "    validation_split=0.2\n",
    ")"
   ]
  },
  {
   "cell_type": "code",
   "execution_count": 78,
   "metadata": {},
   "outputs": [
    {
     "data": {
      "image/png": "[encoded data removed]",
      "text/plain": [
       "<matplotlib.figure.Figure at 0x7f76674e00f0>"
      ]
     },
     "metadata": {},
     "output_type": "display_data"
    },
    {
     "data": {
      "image/png": "[encoded data removed]",
      "text/plain": [
       "<matplotlib.figure.Figure at 0x7f7667479c18>"
      ]
     },
     "metadata": {},
     "output_type": "display_data"
    },
    {
     "name": "stdout",
     "output_type": "stream",
     "text": [
      "25000/25000 [==============================] - 0s 17us/step\n"
     ]
    },
    {
     "data": {
      "text/plain": [
       "[0.522116763226986, 0.84332]"
      ]
     },
     "execution_count": 78,
     "metadata": {},
     "output_type": "execute_result"
    }
   ],
   "source": [
    "def plot_history(history):\n",
    "    plt.plot(history[\"acc\"], label=\"acc\")\n",
    "    plt.plot(history[\"val_acc\"], label=\"val_acc\")\n",
    "    plt.legend()\n",
    "    plt.show()\n",
    "    plt.close()\n",
    "    \n",
    "    plt.plot(history[\"loss\"], label=\"loss\")\n",
    "    plt.plot(history[\"val_loss\"], label=\"val_loss\")\n",
    "    plt.legend()\n",
    "    plt.show()\n",
    "    plt.close()\n",
    "\n",
    "plot_history(history.history) \n",
    "\n",
    "model.evaluate(x_test, y_test)"
   ]
  },
  {
   "cell_type": "markdown",
   "metadata": {},
   "source": [
    "Quite good accuracy by taking only the first 20 words and restricting the vocabulary to 10.000 words.  \n",
    "\n",
    "This means:  there is already some important information hidden in the first 20 words\n",
    "\n",
    "Incerase accuracy by increasing max_len and/or max_features\n"
   ]
  },
  {
   "cell_type": "code",
   "execution_count": null,
   "metadata": {},
   "outputs": [],
   "source": []
  },
  {
   "cell_type": "code",
   "execution_count": null,
   "metadata": {},
   "outputs": [],
   "source": []
  },
  {
   "cell_type": "code",
   "execution_count": null,
   "metadata": {},
   "outputs": [],
   "source": []
  }
 ],
 "metadata": {
  "kernelspec": {
   "display_name": "Python 3",
   "language": "python",
   "name": "python3"
  },
  "language_info": {
   "codemirror_mode": {
    "name": "ipython",
    "version": 3
   },
   "file_extension": ".py",
   "mimetype": "text/x-python",
   "name": "python",
   "nbconvert_exporter": "python",
   "pygments_lexer": "ipython3",
   "version": "3.6.5"
  }
 },
 "nbformat": 4,
 "nbformat_minor": 2
}
