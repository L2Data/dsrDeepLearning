{
 "cells": [
  {
   "cell_type": "markdown",
   "metadata": {},
   "source": [
    "# Copy from 2_classificationMovieReviews\n",
    "\n",
    "This is to explore what dropouts are"
   ]
  },
  {
   "cell_type": "code",
   "execution_count": 1,
   "metadata": {},
   "outputs": [
    {
     "name": "stderr",
     "output_type": "stream",
     "text": [
      "Using TensorFlow backend.\n"
     ]
    }
   ],
   "source": [
    "%matplotlib inline\n",
    "import matplotlib.pyplot as plt\n",
    "from keras.datasets import imdb\n",
    "from keras import models, layers, optimizers, losses, metrics\n",
    "import numpy as np"
   ]
  },
  {
   "cell_type": "code",
   "execution_count": 2,
   "metadata": {},
   "outputs": [],
   "source": [
    "(train_data, train_label), (test_data, test_label) = imdb.load_data(num_words=10000)"
   ]
  },
  {
   "cell_type": "code",
   "execution_count": 3,
   "metadata": {},
   "outputs": [
    {
     "name": "stdout",
     "output_type": "stream",
     "text": [
      "(25000,)\n"
     ]
    }
   ],
   "source": [
    "print(test_data.shape)"
   ]
  },
  {
   "cell_type": "code",
   "execution_count": 4,
   "metadata": {},
   "outputs": [
    {
     "name": "stdout",
     "output_type": "stream",
     "text": [
      "141\n",
      "43\n"
     ]
    }
   ],
   "source": [
    "print(len(train_data[2]))\n",
    "print(len(train_data[5]))"
   ]
  },
  {
   "cell_type": "markdown",
   "metadata": {},
   "source": [
    "Input data is encoded as numbers.  These are stored in the dirctionary.  \n",
    "\n",
    "Building a text out of it works as follows:"
   ]
  },
  {
   "cell_type": "code",
   "execution_count": 5,
   "metadata": {},
   "outputs": [
    {
     "name": "stdout",
     "output_type": "stream",
     "text": [
      "1\n",
      "? dressed to kill understandably made a bit of a ? when first released in 1980 you had police girl in a role that was mega erotic as angie ? played a sexually frustrated housewife looking for good times in all the wrong ? and there into apartment ? plus nancy allen as a call girl michael caine as norman ? sophisticated new york cousin and enough lurid imagery to last two movies of the period today it's slightly less ? by standards and such though the ? version has some of the most hot content of any of de palma's films at least in his quasi auteur period of the 70s and early 80s where he seemed to repeat themes over and over ideas taken right off the film ? of hitchcock classics and given a ? ? it's a simple tale that one partly already saw in sisters and then again to an extent in body double and also in blow out ? allen plays call girl liz blake who has to clear her name of suspicion of killing kate dickinson in full blown ? mode after being found with a razor the murder weapon from dr ? office michael caine stone cold performance most of the way br br from the start which de palma seems to do as a way of setting up a dangerous sexual fantasy scene as a way of ? the opening scene of carrie which perhaps he does just in editing terms we get a series of technical knock out turns through the point of view of style itself the tracking shots in the museum meant to stir up more of a fascination with the process itself of following and wanting to be followed than any kind of tension the chase through the subway a ? to carlito's way is done with a precise level of suspense meanwhile with a slightly exploitation bit thrown in with the black gang the character of peter ? son keith gordon who plays what is essentially a younger version of the real life de palma as a kid science geek obsessed with hitchcock and ? and it's all entertaining and ? as hell as something that comes close to a real ? of what makes de palma's thrillers so unique while being so self ? ? by a ? attitude of film making br br on the other hand that same self consciousness ended up coming back to bite the director in the butt a few times in recent years and somehow in dressed to kill it starts to become very ? and disappointing as the story has to wrap itself up as the psycho themes come together even more apparently man who wants a sex change doesn't even think he's killing as it is she who is doing it there is an ? scene in the police station that makes the aforementioned ? film look like an astonishing psychological revelation and the final scenes at ? house also calling painfully into ? a much more accomplished sequence in carrie are meant for a manipulation that even for de palma is asking for it the final shot especially albeit a ? class in how to copy yourself yet there is a very deranged and within itself perfect scene at the mental hospital amid this confused denouement where the doctor does some work on a nurse to which all the other inmates act like animals in a ? and an over head shot going up and up over the scene is one of the best shots of sexual general ? ever captured on film br br a shame then that the film ends on such a strange and unsettling manner where up until then it is a remarkable piece of pulp cinema where class is all around in the technical aspects soft lighting intricate camera movements seemingly so simple amid subject matter that should be found in the mix of ? for 25 cents it's no masterpiece but i'd certainly take it over most of the director's recent thrillers any day\n"
     ]
    }
   ],
   "source": [
    "word_index = imdb.get_word_index()\n",
    "\n",
    "reverse_word_index = dict(\n",
    "    [(value, key) for key, value in word_index.items()]\n",
    ")\n",
    "\n",
    "sample_index = 65\n",
    "decoded_review = \" \".join(\n",
    "    [reverse_word_index.get(i - 3, \"?\") for i in train_data[sample_index]]\n",
    ")\n",
    "\n",
    "print(train_label[sample_index])\n",
    "print(decoded_review)"
   ]
  },
  {
   "cell_type": "markdown",
   "metadata": {},
   "source": [
    "Binary label encodes thumbs up (1) / tumbs down (0)\n",
    "\n",
    "Goal:  Train the system to classify 1 / 0 on the bases of the review text.\n",
    "\n",
    "## Data preprocessing\n",
    "\n",
    "Input data has different lengths.  To equalize that, we map each sequence onto the dictionary.  Therefore, we are doing doing the following:\n",
    "    \n",
    "Example:\n",
    "\n",
    "    Having a dictionary \n",
    "        dict = [am, i, the , hello, tristan, world]\n",
    "    \n",
    "    I am tristan   = [1, 1, 0, 0, 1, 0]\n",
    "    \n",
    "    I am the world = [1, 1, 1, 0, 0, 1]\n",
    "    \n",
    "    hello world    = [0, 0, 0, 1, 0, 1]"
   ]
  },
  {
   "cell_type": "code",
   "execution_count": 6,
   "metadata": {},
   "outputs": [],
   "source": [
    "def vectorize_sequence(sequences, dimension=10000):\n",
    "    results = np.zeros((len(sequences), dimension))\n",
    "    for i, sequence in enumerate(sequences):\n",
    "        results[i, sequence] = 1                    # fancy indexing\n",
    "    return results\n",
    "\n",
    "x_train = vectorize_sequence(train_data)\n",
    "x_test = vectorize_sequence(test_data)\n",
    "\n",
    "y_train = np.asarray(train_label).astype(\"float32\")\n",
    "y_test = np.asarray(test_label).astype(\"float32\")"
   ]
  },
  {
   "cell_type": "code",
   "execution_count": 7,
   "metadata": {},
   "outputs": [
    {
     "name": "stdout",
     "output_type": "stream",
     "text": [
      "[0. 1. 1. ... 0. 0. 0.]\n",
      "1.0\n"
     ]
    }
   ],
   "source": [
    "print(x_train[0])\n",
    "print(y_train[0])"
   ]
  },
  {
   "cell_type": "markdown",
   "metadata": {},
   "source": [
    "Now we are done with the data preprocessing.\n",
    "\n",
    "## Defining a validation set\n",
    "\n",
    "Now split the test data in two pieces:\n",
    "    1. validation  <-\n",
    "    2. test"
   ]
  },
  {
   "cell_type": "code",
   "execution_count": 8,
   "metadata": {},
   "outputs": [],
   "source": [
    "x_val = x_train[: 10000]\n",
    "partial_x_train = x_train[10000: ]\n",
    "\n",
    "y_val = y_train[: 10000]\n",
    "partial_y_train = y_train[10000: ]"
   ]
  },
  {
   "cell_type": "code",
   "execution_count": 45,
   "metadata": {},
   "outputs": [
    {
     "name": "stdout",
     "output_type": "stream",
     "text": [
      "_________________________________________________________________\n",
      "Layer (type)                 Output Shape              Param #   \n",
      "=================================================================\n",
      "dense_25 (Dense)             (None, 16)                160016    \n",
      "_________________________________________________________________\n",
      "dropout_17 (Dropout)         (None, 16)                0         \n",
      "_________________________________________________________________\n",
      "dense_26 (Dense)             (None, 16)                272       \n",
      "_________________________________________________________________\n",
      "dropout_18 (Dropout)         (None, 16)                0         \n",
      "_________________________________________________________________\n",
      "dense_27 (Dense)             (None, 1)                 17        \n",
      "=================================================================\n",
      "Total params: 160,305\n",
      "Trainable params: 160,305\n",
      "Non-trainable params: 0\n",
      "_________________________________________________________________\n"
     ]
    }
   ],
   "source": [
    "model = models.Sequential()\n",
    "\n",
    "model.add(layers.Dense(\n",
    "    16,   # Number of hidden units / output size\n",
    "    activation=\"relu\",\n",
    "    input_shape=(10000, )\n",
    "))\n",
    "\n",
    "model.add(layers.Dropout(\n",
    "    0.55\n",
    "))\n",
    "\n",
    "model.add(layers.Dense(\n",
    "    16,\n",
    "    activation=\"relu\"\n",
    "))\n",
    "\n",
    "model.add(layers.Dropout(\n",
    "    0.45\n",
    "))\n",
    "          \n",
    "model.add(layers.Dense(\n",
    "    1,\n",
    "    activation=\"sigmoid\"\n",
    "))\n",
    "\n",
    "model.summary()\n",
    "\n",
    "model.compile(\n",
    "    optimizer=optimizers.RMSprop(lr=0.0010),\n",
    "    loss=losses.binary_crossentropy,\n",
    "    metrics=[metrics.binary_accuracy]\n",
    ")"
   ]
  },
  {
   "cell_type": "code",
   "execution_count": 46,
   "metadata": {},
   "outputs": [],
   "source": [
    "history = model.fit(\n",
    "    partial_x_train, partial_y_train,\n",
    "    epochs=20,\n",
    "    batch_size=128,\n",
    "    validation_data=(x_val, y_val),\n",
    "    verbose = 0\n",
    ")"
   ]
  },
  {
   "cell_type": "code",
   "execution_count": 47,
   "metadata": {},
   "outputs": [
    {
     "name": "stdout",
     "output_type": "stream",
     "text": [
      "{'val_loss': [0.36944666175842283, 0.2969860771179199, 0.281209153342247, 0.2926175183534622, 0.30054554827213287, 0.31932532596588137, 0.34170771889686585, 0.35479515433311465, 0.37044250473976137, 0.3968719304084778, 0.4000588255882263, 0.4034669464111328, 0.42994958505630493, 0.44092727007865906, 0.45109287719726565, 0.4576534091949463, 0.4861761552810669, 0.48433528423309324, 0.4789856071472168, 0.49538781032562257], 'val_binary_accuracy': [0.8751, 0.8846, 0.8866, 0.8881, 0.8878, 0.888, 0.8895, 0.8872, 0.8831, 0.8901, 0.8857, 0.8854, 0.8855, 0.8828, 0.8813, 0.8817, 0.8814, 0.8812, 0.8783, 0.8782], 'loss': [0.5734725363254547, 0.3814733826637268, 0.3075708862463633, 0.2682863678455353, 0.23356444511413574, 0.2183970202445984, 0.19985677177906036, 0.18861338548660278, 0.18747621246178944, 0.17432158558766048, 0.1732155285358429, 0.17716424628098806, 0.16187050937811534, 0.16938300549586613, 0.1720726700703303, 0.15387717894713085, 0.16018487790425617, 0.16434780531724294, 0.15708012294371923, 0.15718980718652406], 'binary_accuracy': [0.7020666666348775, 0.8486666666348776, 0.8865333333333333, 0.9028666666984558, 0.9183333333651225, 0.9243333333651225, 0.9256666666984558, 0.9333333333651225, 0.9349333333015442, 0.9348000000317891, 0.9363333333333334, 0.9377333333015442, 0.9405999999682109, 0.9376000000317891, 0.9397333333333333, 0.9416000000317891, 0.9457333333015442, 0.9413999999682109, 0.9428000000317891, 0.9416666666666667]}\n"
     ]
    }
   ],
   "source": [
    "print(history.history) "
   ]
  },
  {
   "cell_type": "code",
   "execution_count": 48,
   "metadata": {},
   "outputs": [
    {
     "data": {
      "image/png": "[encoded data removed]",
      "text/plain": [
       "<matplotlib.figure.Figure at 0x7ff6d0d586a0>"
      ]
     },
     "metadata": {},
     "output_type": "display_data"
    },
    {
     "data": {
      "image/png": "[encoded data removed]",
      "text/plain": [
       "<matplotlib.figure.Figure at 0x7ff6d03d3ef0>"
      ]
     },
     "metadata": {},
     "output_type": "display_data"
    }
   ],
   "source": [
    "def plot_history(history):\n",
    "    plt.plot(history[\"binary_accuracy\"], label=\"acc\")\n",
    "    plt.plot(history[\"val_binary_accuracy\"], label=\"val_acc\")\n",
    "    plt.legend()\n",
    "    plt.show()\n",
    "    plt.close()\n",
    "    \n",
    "    plt.plot(history[\"loss\"], label=\"loss\")\n",
    "    plt.plot(history[\"val_loss\"], label=\"val_loss\")\n",
    "    plt.legend()\n",
    "    plt.show()\n",
    "    plt.close()\n",
    "\n",
    "plot_history(history.history)   "
   ]
  },
  {
   "cell_type": "markdown",
   "metadata": {},
   "source": [
    "Plot 1 - blue (training data):\n",
    "- accuracy has a steep start and converges then\n",
    "- if start is too steep:  lower lr\n",
    "- if start is not steep enough:  enlargen lr\n",
    "\n",
    "Plot 1 - orange (validation data):\n",
    "- __overfitting __\n",
    "- stop training\n",
    "\n",
    "\n",
    "## Overcome overfitting\n",
    "### 1. Decrease size of the neuronal network\n",
    "### 2. Stop learning at minimum loss\n",
    "### 3. Increase database \n",
    "### 4. Dropout <- tackled here\n",
    "### 5. Data augmentation"
   ]
  },
  {
   "cell_type": "code",
   "execution_count": null,
   "metadata": {},
   "outputs": [],
   "source": []
  },
  {
   "cell_type": "code",
   "execution_count": null,
   "metadata": {},
   "outputs": [],
   "source": []
  },
  {
   "cell_type": "code",
   "execution_count": null,
   "metadata": {},
   "outputs": [],
   "source": []
  }
 ],
 "metadata": {
  "kernelspec": {
   "display_name": "Python 3",
   "language": "python",
   "name": "python3"
  },
  "language_info": {
   "codemirror_mode": {
    "name": "ipython",
    "version": 3
   },
   "file_extension": ".py",
   "mimetype": "text/x-python",
   "name": "python",
   "nbconvert_exporter": "python",
   "pygments_lexer": "ipython3",
   "version": "3.6.5"
  }
 },
 "nbformat": 4,
 "nbformat_minor": 2
}
