{
 "cells": [
  {
   "cell_type": "markdown",
   "metadata": {},
   "source": [
    "Using glove data.\n",
    "\n",
    "Contains word embeddings with certain vector length as encoded in the name of the files.  With this, one is able to kickstart a NN by loading the approved data and glue it into a layer.\n"
   ]
  },
  {
   "cell_type": "code",
   "execution_count": 18,
   "metadata": {},
   "outputs": [],
   "source": [
    "%matplotlib inline\n",
    "import matplotlib.pyplot as plt\n",
    "import numpy as np\n",
    "import os\n",
    "glove_dir = \"data/glove\""
   ]
  },
  {
   "cell_type": "code",
   "execution_count": 2,
   "metadata": {},
   "outputs": [],
   "source": [
    "embedding_index = {}\n",
    "f = open(os.path.join(glove_dir, \"glove.6B.100d.txt\"))\n",
    "for line in f:\n",
    "    values = line.split()\n",
    "    word = values[0]\n",
    "    coefs = np.asarray(values[1:], dtype=\"float32\")\n",
    "    embedding_index[word] = coefs"
   ]
  },
  {
   "cell_type": "code",
   "execution_count": 3,
   "metadata": {},
   "outputs": [
    {
     "name": "stdout",
     "output_type": "stream",
     "text": [
      "0.2492309808731079\n",
      "0.21655863523483276\n",
      "0.8777846917510033\n"
     ]
    }
   ],
   "source": [
    "from scipy.spatial import distance\n",
    "vec_king = embedding_index[\"king\"]\n",
    "vec_man = embedding_index[\"man\"]\n",
    "vec_woman = embedding_index[\"woman\"]\n",
    "vec_queen_pred = vec_king + vec_woman - vec_man\n",
    "vec_queen_true = embedding_index[\"queen\"]\n",
    "dist = distance.cosine(vec_king, vec_queen_true)\n",
    "print(dist)\n",
    "dist = distance.cosine(vec_queen_pred, vec_queen_true)\n",
    "print(dist)\n",
    "dist = distance.cosine(vec_king, embedding_index[\"cheese\"])\n",
    "print(dist)"
   ]
  },
  {
   "cell_type": "code",
   "execution_count": 4,
   "metadata": {},
   "outputs": [
    {
     "name": "stdout",
     "output_type": "stream",
     "text": [
      "0.09368908405303955\n"
     ]
    }
   ],
   "source": [
    "vec_a = embedding_index[\"mother\"]\n",
    "vec_b = embedding_index[\"daughter\"]\n",
    "\n",
    "print(distance.cosine(vec_a, vec_b))"
   ]
  },
  {
   "cell_type": "markdown",
   "metadata": {},
   "source": [
    "IMDB as text database"
   ]
  },
  {
   "cell_type": "code",
   "execution_count": 21,
   "metadata": {},
   "outputs": [
    {
     "name": "stdout",
     "output_type": "stream",
     "text": [
      "(10000, 100)\n"
     ]
    }
   ],
   "source": [
    "from keras.datasets import imdb\n",
    "from keras import models, layers, preprocessing\n",
    "\n",
    "max_words = 10000\n",
    "max_len = 200\n",
    "\n",
    "embedding_dim = 100\n",
    "\n",
    "word_index = imdb.get_word_index()\n",
    "embedding_matrix = np.zeros((max_words, embedding_dim))\n",
    "for word, i in word_index.items():\n",
    "    if i < max_words:\n",
    "        embedding_vector = embedding_index.get(word)\n",
    "        if embedding_vector is not None:\n",
    "            embedding_matrix[i] = embedding_vector\n",
    "            \n",
    "print(embedding_matrix.shape)"
   ]
  },
  {
   "cell_type": "code",
   "execution_count": 22,
   "metadata": {},
   "outputs": [
    {
     "name": "stdout",
     "output_type": "stream",
     "text": [
      "_________________________________________________________________\n",
      "Layer (type)                 Output Shape              Param #   \n",
      "=================================================================\n",
      "embedding_3 (Embedding)      (None, 200, 100)          1000000   \n",
      "_________________________________________________________________\n",
      "flatten_3 (Flatten)          (None, 20000)             0         \n",
      "_________________________________________________________________\n",
      "dense_5 (Dense)              (None, 32)                640032    \n",
      "_________________________________________________________________\n",
      "dense_6 (Dense)              (None, 1)                 33        \n",
      "=================================================================\n",
      "Total params: 1,640,065\n",
      "Trainable params: 1,640,065\n",
      "Non-trainable params: 0\n",
      "_________________________________________________________________\n"
     ]
    }
   ],
   "source": [
    "model = models.Sequential()\n",
    "model.add(layers.Embedding(max_words, embedding_dim, input_length=max_len))\n",
    "model.add(layers.Flatten())\n",
    "model.add(layers.Dense(32, activation=\"relu\"))\n",
    "model.add(layers.Dense(1, activation=\"sigmoid\"))\n",
    "model.summary()"
   ]
  },
  {
   "cell_type": "markdown",
   "metadata": {},
   "source": [
    "Loading the glove-data into the network and fix the layer so that it isn't trained.\n"
   ]
  },
  {
   "cell_type": "code",
   "execution_count": 23,
   "metadata": {},
   "outputs": [],
   "source": [
    "model.layers[0].set_weights([embedding_matrix])\n",
    "model.layers[0].trainable = False"
   ]
  },
  {
   "cell_type": "code",
   "execution_count": 24,
   "metadata": {},
   "outputs": [],
   "source": [
    "model.compile(\n",
    "    optimizer=\"rmsprop\",\n",
    "    loss=\"binary_crossentropy\",\n",
    "    metrics=[\"accuracy\"]\n",
    ")"
   ]
  },
  {
   "cell_type": "code",
   "execution_count": 25,
   "metadata": {},
   "outputs": [],
   "source": [
    "(x_train, y_train), (x_test, y_test) = imdb.load_data(num_words=max_words)\n",
    "x_train = preprocessing.sequence.pad_sequences(x_train, maxlen = max_len)\n",
    "x_test = preprocessing.sequence.pad_sequences(x_test, maxlen = max_len)"
   ]
  },
  {
   "cell_type": "code",
   "execution_count": 26,
   "metadata": {},
   "outputs": [
    {
     "name": "stdout",
     "output_type": "stream",
     "text": [
      "Train on 20000 samples, validate on 5000 samples\n",
      "Epoch 1/10\n",
      "20000/20000 [==============================] - 7s 373us/step - loss: 0.7683 - acc: 0.4995 - val_loss: 0.6926 - val_acc: 0.5104\n",
      "Epoch 2/10\n",
      "20000/20000 [==============================] - 7s 371us/step - loss: 0.6992 - acc: 0.5054 - val_loss: 0.6925 - val_acc: 0.5082\n",
      "Epoch 3/10\n",
      "20000/20000 [==============================] - 7s 375us/step - loss: 0.6930 - acc: 0.5152 - val_loss: 0.7149 - val_acc: 0.5108\n",
      "Epoch 4/10\n",
      "20000/20000 [==============================] - 8s 395us/step - loss: 0.6844 - acc: 0.5373 - val_loss: 0.6972 - val_acc: 0.5152\n",
      "Epoch 5/10\n",
      "20000/20000 [==============================] - 8s 397us/step - loss: 0.6575 - acc: 0.5904 - val_loss: 0.7240 - val_acc: 0.5454\n",
      "Epoch 6/10\n",
      "20000/20000 [==============================] - 8s 388us/step - loss: 0.5926 - acc: 0.6671 - val_loss: 0.7257 - val_acc: 0.5600\n",
      "Epoch 7/10\n",
      "20000/20000 [==============================] - 8s 386us/step - loss: 0.5121 - acc: 0.7292 - val_loss: 0.7890 - val_acc: 0.5698\n",
      "Epoch 8/10\n",
      "20000/20000 [==============================] - 8s 388us/step - loss: 0.4354 - acc: 0.7775 - val_loss: 0.9115 - val_acc: 0.5626\n",
      "Epoch 9/10\n",
      "20000/20000 [==============================] - 8s 391us/step - loss: 0.3671 - acc: 0.8186 - val_loss: 0.9235 - val_acc: 0.5576\n",
      "Epoch 10/10\n",
      "20000/20000 [==============================] - 8s 396us/step - loss: 0.3047 - acc: 0.8538 - val_loss: 1.5916 - val_acc: 0.5402\n"
     ]
    }
   ],
   "source": [
    "history = model.fit(\n",
    "    x_train, y_train, # input, output of the nn\n",
    "    batch_size = 32,\n",
    "    epochs=10,\n",
    "    validation_split=0.2\n",
    ")"
   ]
  },
  {
   "cell_type": "code",
   "execution_count": 28,
   "metadata": {},
   "outputs": [
    {
     "data": {
      "image/png": "[encoded data removed]",
      "text/plain": [
       "<matplotlib.figure.Figure at 0x7f6842261518>"
      ]
     },
     "metadata": {},
     "output_type": "display_data"
    },
    {
     "data": {
      "image/png": "[encoded data removed]",
      "text/plain": [
       "<matplotlib.figure.Figure at 0x7f6840035b70>"
      ]
     },
     "metadata": {},
     "output_type": "display_data"
    },
    {
     "name": "stdout",
     "output_type": "stream",
     "text": [
      "25000/25000 [==============================] - 3s 107us/step\n"
     ]
    },
    {
     "data": {
      "text/plain": [
       "[1.566641078262329, 0.54488]"
      ]
     },
     "execution_count": 28,
     "metadata": {},
     "output_type": "execute_result"
    }
   ],
   "source": [
    "def plot_history(history):\n",
    "    plt.plot(history[\"acc\"], label=\"acc\")\n",
    "    plt.plot(history[\"val_acc\"], label=\"val_acc\")\n",
    "    plt.legend()\n",
    "    plt.show()\n",
    "    plt.close()\n",
    "    \n",
    "    plt.plot(history[\"loss\"], label=\"loss\")\n",
    "    plt.plot(history[\"val_loss\"], label=\"val_loss\")\n",
    "    plt.legend()\n",
    "    plt.show()\n",
    "    plt.close()\n",
    "\n",
    "plot_history(history.history) \n",
    "\n",
    "model.evaluate(x_test, y_test)"
   ]
  },
  {
   "cell_type": "code",
   "execution_count": null,
   "metadata": {},
   "outputs": [],
   "source": []
  },
  {
   "cell_type": "code",
   "execution_count": null,
   "metadata": {},
   "outputs": [],
   "source": []
  }
 ],
 "metadata": {
  "kernelspec": {
   "display_name": "Python 3",
   "language": "python",
   "name": "python3"
  },
  "language_info": {
   "codemirror_mode": {
    "name": "ipython",
    "version": 3
   },
   "file_extension": ".py",
   "mimetype": "text/x-python",
   "name": "python",
   "nbconvert_exporter": "python",
   "pygments_lexer": "ipython3",
   "version": "3.6.5"
  }
 },
 "nbformat": 4,
 "nbformat_minor": 2
}
